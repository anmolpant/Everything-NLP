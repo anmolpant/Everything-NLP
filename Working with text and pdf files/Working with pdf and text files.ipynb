{
 "cells": [
  {
   "cell_type": "markdown",
   "metadata": {},
   "source": [
    "### Working with pdf and text files for NLP"
   ]
  },
  {
   "cell_type": "markdown",
   "metadata": {},
   "source": [
    "#### String Formatter"
   ]
  },
  {
   "cell_type": "code",
   "execution_count": 1,
   "metadata": {},
   "outputs": [],
   "source": [
    "name = \"Anmol Pant\""
   ]
  },
  {
   "cell_type": "code",
   "execution_count": 2,
   "metadata": {},
   "outputs": [
    {
     "name": "stdout",
     "output_type": "stream",
     "text": [
      "The name of the person is Anmol Pant\n"
     ]
    }
   ],
   "source": [
    "print('The name of the person is {}'.format(name))"
   ]
  },
  {
   "cell_type": "code",
   "execution_count": 4,
   "metadata": {},
   "outputs": [
    {
     "name": "stdout",
     "output_type": "stream",
     "text": [
      "The name of the person is Anmol Pant\n"
     ]
    }
   ],
   "source": [
    "print(f'The name of the person is {name}')"
   ]
  },
  {
   "cell_type": "code",
   "execution_count": 5,
   "metadata": {},
   "outputs": [],
   "source": [
    "# minimum width and alignment b/w columns"
   ]
  },
  {
   "cell_type": "code",
   "execution_count": 11,
   "metadata": {},
   "outputs": [],
   "source": [
    "mylist = [('tuple 1',12),\n",
    "         ('tuple 2',11),\n",
    "         ('phirse tuple',10),\n",
    "         ('ek aur tuple', 23),\n",
    "         ('last tuple', 12)]"
   ]
  },
  {
   "cell_type": "code",
   "execution_count": 12,
   "metadata": {},
   "outputs": [
    {
     "data": {
      "text/plain": [
       "[('tuple 1', 12),\n",
       " ('tuple 2', 11),\n",
       " ('phirse tuple', 10),\n",
       " ('ek aur tuple', 23),\n",
       " ('last tuple', 12)]"
      ]
     },
     "execution_count": 12,
     "metadata": {},
     "output_type": "execute_result"
    }
   ],
   "source": [
    "mylist"
   ]
  },
  {
   "cell_type": "code",
   "execution_count": 15,
   "metadata": {},
   "outputs": [
    {
     "name": "stdout",
     "output_type": "stream",
     "text": [
      "('tuple 1', 12)\n",
      "('tuple 2', 11)\n",
      "('phirse tuple', 10)\n",
      "('ek aur tuple', 23)\n",
      "('last tuple', 12)\n"
     ]
    }
   ],
   "source": [
    "for i in mylist:\n",
    "    print (i)"
   ]
  },
  {
   "cell_type": "code",
   "execution_count": 19,
   "metadata": {},
   "outputs": [
    {
     "name": "stdout",
     "output_type": "stream",
     "text": [
      "tuple 1                                                    12\n",
      "tuple 2                                                    11\n",
      "phirse tuple                                               10\n",
      "ek aur tuple                                               23\n",
      "last tuple                                                 12\n"
     ]
    }
   ],
   "source": [
    "#formatting\n",
    "for i in mylist:\n",
    "    print (f'{i[0]:{50}} {i[1]:{10}}')"
   ]
  },
  {
   "cell_type": "code",
   "execution_count": 21,
   "metadata": {},
   "outputs": [
    {
     "name": "stdout",
     "output_type": "stream",
     "text": [
      "tuple 1                                            ........12\n",
      "tuple 2                                            ........11\n",
      "phirse tuple                                       ........10\n",
      "ek aur tuple                                       ........23\n",
      "last tuple                                         ........12\n"
     ]
    }
   ],
   "source": [
    "#>,<,^ for alignment\n",
    "for i in mylist:\n",
    "    print (f'{i[0]:<{50}} {i[1]:.>{10}}')"
   ]
  },
  {
   "cell_type": "markdown",
   "metadata": {},
   "source": [
    "### Working w .CSV and .TSV files"
   ]
  },
  {
   "cell_type": "code",
   "execution_count": 22,
   "metadata": {},
   "outputs": [],
   "source": [
    "import pandas as pd"
   ]
  },
  {
   "cell_type": "code",
   "execution_count": 23,
   "metadata": {},
   "outputs": [],
   "source": [
    "data = pd.read_csv('moviereviews.tsv',sep = '\\t')"
   ]
  },
  {
   "cell_type": "code",
   "execution_count": 24,
   "metadata": {},
   "outputs": [
    {
     "data": {
      "text/html": [
       "<div>\n",
       "<style scoped>\n",
       "    .dataframe tbody tr th:only-of-type {\n",
       "        vertical-align: middle;\n",
       "    }\n",
       "\n",
       "    .dataframe tbody tr th {\n",
       "        vertical-align: top;\n",
       "    }\n",
       "\n",
       "    .dataframe thead th {\n",
       "        text-align: right;\n",
       "    }\n",
       "</style>\n",
       "<table border=\"1\" class=\"dataframe\">\n",
       "  <thead>\n",
       "    <tr style=\"text-align: right;\">\n",
       "      <th></th>\n",
       "      <th>label</th>\n",
       "      <th>review</th>\n",
       "    </tr>\n",
       "  </thead>\n",
       "  <tbody>\n",
       "    <tr>\n",
       "      <th>0</th>\n",
       "      <td>neg</td>\n",
       "      <td>how do films like mouse hunt get into theatres...</td>\n",
       "    </tr>\n",
       "    <tr>\n",
       "      <th>1</th>\n",
       "      <td>neg</td>\n",
       "      <td>some talented actresses are blessed with a dem...</td>\n",
       "    </tr>\n",
       "    <tr>\n",
       "      <th>2</th>\n",
       "      <td>pos</td>\n",
       "      <td>this has been an extraordinary year for austra...</td>\n",
       "    </tr>\n",
       "    <tr>\n",
       "      <th>3</th>\n",
       "      <td>pos</td>\n",
       "      <td>according to hollywood movies made in last few...</td>\n",
       "    </tr>\n",
       "    <tr>\n",
       "      <th>4</th>\n",
       "      <td>neg</td>\n",
       "      <td>my first press screening of 1998 and already i...</td>\n",
       "    </tr>\n",
       "  </tbody>\n",
       "</table>\n",
       "</div>"
      ],
      "text/plain": [
       "  label                                             review\n",
       "0   neg  how do films like mouse hunt get into theatres...\n",
       "1   neg  some talented actresses are blessed with a dem...\n",
       "2   pos  this has been an extraordinary year for austra...\n",
       "3   pos  according to hollywood movies made in last few...\n",
       "4   neg  my first press screening of 1998 and already i..."
      ]
     },
     "execution_count": 24,
     "metadata": {},
     "output_type": "execute_result"
    }
   ],
   "source": [
    "data.head()"
   ]
  },
  {
   "cell_type": "code",
   "execution_count": 25,
   "metadata": {},
   "outputs": [
    {
     "data": {
      "text/plain": [
       "(2000, 2)"
      ]
     },
     "execution_count": 25,
     "metadata": {},
     "output_type": "execute_result"
    }
   ],
   "source": [
    "data.shape"
   ]
  },
  {
   "cell_type": "code",
   "execution_count": 26,
   "metadata": {},
   "outputs": [
    {
     "data": {
      "text/plain": [
       "pos    1000\n",
       "neg    1000\n",
       "Name: label, dtype: int64"
      ]
     },
     "execution_count": 26,
     "metadata": {},
     "output_type": "execute_result"
    }
   ],
   "source": [
    "data['label'].value_counts()"
   ]
  },
  {
   "cell_type": "code",
   "execution_count": 28,
   "metadata": {},
   "outputs": [],
   "source": [
    "pos = data[data['label'] == 'pos']"
   ]
  },
  {
   "cell_type": "code",
   "execution_count": 29,
   "metadata": {},
   "outputs": [
    {
     "data": {
      "text/html": [
       "<div>\n",
       "<style scoped>\n",
       "    .dataframe tbody tr th:only-of-type {\n",
       "        vertical-align: middle;\n",
       "    }\n",
       "\n",
       "    .dataframe tbody tr th {\n",
       "        vertical-align: top;\n",
       "    }\n",
       "\n",
       "    .dataframe thead th {\n",
       "        text-align: right;\n",
       "    }\n",
       "</style>\n",
       "<table border=\"1\" class=\"dataframe\">\n",
       "  <thead>\n",
       "    <tr style=\"text-align: right;\">\n",
       "      <th></th>\n",
       "      <th>label</th>\n",
       "      <th>review</th>\n",
       "    </tr>\n",
       "  </thead>\n",
       "  <tbody>\n",
       "    <tr>\n",
       "      <th>2</th>\n",
       "      <td>pos</td>\n",
       "      <td>this has been an extraordinary year for austra...</td>\n",
       "    </tr>\n",
       "    <tr>\n",
       "      <th>3</th>\n",
       "      <td>pos</td>\n",
       "      <td>according to hollywood movies made in last few...</td>\n",
       "    </tr>\n",
       "    <tr>\n",
       "      <th>11</th>\n",
       "      <td>pos</td>\n",
       "      <td>with stars like sigourney weaver ( \" alien \" t...</td>\n",
       "    </tr>\n",
       "    <tr>\n",
       "      <th>16</th>\n",
       "      <td>pos</td>\n",
       "      <td>i remember hearing about this film when it fir...</td>\n",
       "    </tr>\n",
       "    <tr>\n",
       "      <th>18</th>\n",
       "      <td>pos</td>\n",
       "      <td>garry shandling makes his long overdue starrin...</td>\n",
       "    </tr>\n",
       "  </tbody>\n",
       "</table>\n",
       "</div>"
      ],
      "text/plain": [
       "   label                                             review\n",
       "2    pos  this has been an extraordinary year for austra...\n",
       "3    pos  according to hollywood movies made in last few...\n",
       "11   pos  with stars like sigourney weaver ( \" alien \" t...\n",
       "16   pos  i remember hearing about this film when it fir...\n",
       "18   pos  garry shandling makes his long overdue starrin..."
      ]
     },
     "execution_count": 29,
     "metadata": {},
     "output_type": "execute_result"
    }
   ],
   "source": [
    "pos.head()"
   ]
  },
  {
   "cell_type": "code",
   "execution_count": 32,
   "metadata": {},
   "outputs": [],
   "source": [
    "pos.to_csv('pos.tsv', sep = '\\t', index = False)"
   ]
  },
  {
   "cell_type": "code",
   "execution_count": 34,
   "metadata": {},
   "outputs": [
    {
     "data": {
      "text/html": [
       "<div>\n",
       "<style scoped>\n",
       "    .dataframe tbody tr th:only-of-type {\n",
       "        vertical-align: middle;\n",
       "    }\n",
       "\n",
       "    .dataframe tbody tr th {\n",
       "        vertical-align: top;\n",
       "    }\n",
       "\n",
       "    .dataframe thead th {\n",
       "        text-align: right;\n",
       "    }\n",
       "</style>\n",
       "<table border=\"1\" class=\"dataframe\">\n",
       "  <thead>\n",
       "    <tr style=\"text-align: right;\">\n",
       "      <th></th>\n",
       "      <th>label</th>\n",
       "      <th>review</th>\n",
       "    </tr>\n",
       "  </thead>\n",
       "  <tbody>\n",
       "    <tr>\n",
       "      <th>0</th>\n",
       "      <td>pos</td>\n",
       "      <td>this has been an extraordinary year for austra...</td>\n",
       "    </tr>\n",
       "    <tr>\n",
       "      <th>1</th>\n",
       "      <td>pos</td>\n",
       "      <td>according to hollywood movies made in last few...</td>\n",
       "    </tr>\n",
       "    <tr>\n",
       "      <th>2</th>\n",
       "      <td>pos</td>\n",
       "      <td>with stars like sigourney weaver ( \" alien \" t...</td>\n",
       "    </tr>\n",
       "    <tr>\n",
       "      <th>3</th>\n",
       "      <td>pos</td>\n",
       "      <td>i remember hearing about this film when it fir...</td>\n",
       "    </tr>\n",
       "    <tr>\n",
       "      <th>4</th>\n",
       "      <td>pos</td>\n",
       "      <td>garry shandling makes his long overdue starrin...</td>\n",
       "    </tr>\n",
       "  </tbody>\n",
       "</table>\n",
       "</div>"
      ],
      "text/plain": [
       "  label                                             review\n",
       "0   pos  this has been an extraordinary year for austra...\n",
       "1   pos  according to hollywood movies made in last few...\n",
       "2   pos  with stars like sigourney weaver ( \" alien \" t...\n",
       "3   pos  i remember hearing about this film when it fir...\n",
       "4   pos  garry shandling makes his long overdue starrin..."
      ]
     },
     "execution_count": 34,
     "metadata": {},
     "output_type": "execute_result"
    }
   ],
   "source": [
    "pd.read_csv('pos.tsv', sep = '\\t').head()"
   ]
  },
  {
   "cell_type": "code",
   "execution_count": 39,
   "metadata": {},
   "outputs": [
    {
     "name": "stdout",
     "output_type": "stream",
     "text": [
      "Overwriting text1.txt\n"
     ]
    }
   ],
   "source": [
    "%%writefile text1.txt\n",
    "hello, writing with magic command.\n",
    "This is line two.\n",
    "#built in magic command"
   ]
  },
  {
   "cell_type": "code",
   "execution_count": 40,
   "metadata": {},
   "outputs": [
    {
     "name": "stdout",
     "output_type": "stream",
     "text": [
      "Appending to text1.txt\n"
     ]
    }
   ],
   "source": [
    "%%writefile -a text1.txt\n",
    "Appending New Line"
   ]
  },
  {
   "cell_type": "markdown",
   "metadata": {},
   "source": [
    "### Using Inbuilt Commands"
   ]
  },
  {
   "cell_type": "code",
   "execution_count": 1,
   "metadata": {},
   "outputs": [],
   "source": [
    "file = open('text1.txt','r')"
   ]
  },
  {
   "cell_type": "code",
   "execution_count": 2,
   "metadata": {},
   "outputs": [
    {
     "data": {
      "text/plain": [
       "<_io.TextIOWrapper name='text1.txt' mode='r' encoding='cp1252'>"
      ]
     },
     "execution_count": 2,
     "metadata": {},
     "output_type": "execute_result"
    }
   ],
   "source": [
    "file"
   ]
  },
  {
   "cell_type": "code",
   "execution_count": 3,
   "metadata": {},
   "outputs": [
    {
     "data": {
      "text/plain": [
       "'hello, writing with magic command.\\nThis is line two.\\n#built in magic command\\nAppending New Line\\n'"
      ]
     },
     "execution_count": 3,
     "metadata": {},
     "output_type": "execute_result"
    }
   ],
   "source": [
    "file.read()"
   ]
  },
  {
   "cell_type": "code",
   "execution_count": 4,
   "metadata": {},
   "outputs": [
    {
     "data": {
      "text/plain": [
       "''"
      ]
     },
     "execution_count": 4,
     "metadata": {},
     "output_type": "execute_result"
    }
   ],
   "source": [
    "file.read()"
   ]
  },
  {
   "cell_type": "code",
   "execution_count": 7,
   "metadata": {},
   "outputs": [
    {
     "data": {
      "text/plain": [
       "0"
      ]
     },
     "execution_count": 7,
     "metadata": {},
     "output_type": "execute_result"
    }
   ],
   "source": [
    "file.seek(0)"
   ]
  },
  {
   "cell_type": "code",
   "execution_count": 6,
   "metadata": {},
   "outputs": [
    {
     "data": {
      "text/plain": [
       "'hello, writing with magic command.\\nThis is line two.\\n#built in magic command\\nAppending New Line\\n'"
      ]
     },
     "execution_count": 6,
     "metadata": {},
     "output_type": "execute_result"
    }
   ],
   "source": [
    "file.read()"
   ]
  },
  {
   "cell_type": "code",
   "execution_count": 9,
   "metadata": {},
   "outputs": [
    {
     "data": {
      "text/plain": [
       "'This is line two.\\n'"
      ]
     },
     "execution_count": 9,
     "metadata": {},
     "output_type": "execute_result"
    }
   ],
   "source": [
    "file.readline()"
   ]
  },
  {
   "cell_type": "code",
   "execution_count": 10,
   "metadata": {},
   "outputs": [
    {
     "data": {
      "text/plain": [
       "0"
      ]
     },
     "execution_count": 10,
     "metadata": {},
     "output_type": "execute_result"
    }
   ],
   "source": [
    "file.seek(0)"
   ]
  },
  {
   "cell_type": "code",
   "execution_count": 11,
   "metadata": {},
   "outputs": [
    {
     "data": {
      "text/plain": [
       "['hello, writing with magic command.\\n',\n",
       " 'This is line two.\\n',\n",
       " '#built in magic command\\n',\n",
       " 'Appending New Line\\n']"
      ]
     },
     "execution_count": 11,
     "metadata": {},
     "output_type": "execute_result"
    }
   ],
   "source": [
    "file.readlines()"
   ]
  },
  {
   "cell_type": "code",
   "execution_count": 12,
   "metadata": {},
   "outputs": [],
   "source": [
    "file.close()"
   ]
  },
  {
   "cell_type": "code",
   "execution_count": 13,
   "metadata": {},
   "outputs": [
    {
     "name": "stdout",
     "output_type": "stream",
     "text": [
      "['hello, writing with magic command.\\n', 'This is line two.\\n', '#built in magic command\\n', 'Appending New Line\\n']\n"
     ]
    }
   ],
   "source": [
    "with open('text1.txt') as file:\n",
    "    text_data = file.readlines()\n",
    "    print(text_data)"
   ]
  },
  {
   "cell_type": "code",
   "execution_count": 15,
   "metadata": {},
   "outputs": [
    {
     "name": "stdout",
     "output_type": "stream",
     "text": [
      "hello, writing with magic command.\n",
      "This is line two.\n",
      "#built in magic command\n",
      "Appending New Line\n"
     ]
    }
   ],
   "source": [
    "for temp in text_data:\n",
    "    print(temp.strip())"
   ]
  },
  {
   "cell_type": "code",
   "execution_count": 16,
   "metadata": {},
   "outputs": [
    {
     "name": "stdout",
     "output_type": "stream",
     "text": [
      "0--->hello, writing with magic command.\n",
      "1--->This is line two.\n",
      "2--->#built in magic command\n",
      "3--->Appending New Line\n"
     ]
    }
   ],
   "source": [
    "for i, temp in enumerate(text_data):\n",
    "    print(str(i) + \"--->\" + temp.strip())"
   ]
  },
  {
   "cell_type": "code",
   "execution_count": 17,
   "metadata": {},
   "outputs": [],
   "source": [
    "## Write file"
   ]
  },
  {
   "cell_type": "code",
   "execution_count": 18,
   "metadata": {},
   "outputs": [],
   "source": [
    "file = open('text2.txt','w')"
   ]
  },
  {
   "cell_type": "code",
   "execution_count": 19,
   "metadata": {},
   "outputs": [
    {
     "data": {
      "text/plain": [
       "<_io.TextIOWrapper name='text2.txt' mode='w' encoding='cp1252'>"
      ]
     },
     "execution_count": 19,
     "metadata": {},
     "output_type": "execute_result"
    }
   ],
   "source": [
    "file"
   ]
  },
  {
   "cell_type": "code",
   "execution_count": 24,
   "metadata": {},
   "outputs": [
    {
     "ename": "ValueError",
     "evalue": "I/O operation on closed file.",
     "output_type": "error",
     "traceback": [
      "\u001b[1;31m---------------------------------------------------------------------------\u001b[0m",
      "\u001b[1;31mValueError\u001b[0m                                Traceback (most recent call last)",
      "\u001b[1;32m<ipython-input-24-5297f8f92982>\u001b[0m in \u001b[0;36m<module>\u001b[1;34m\u001b[0m\n\u001b[1;32m----> 1\u001b[1;33m \u001b[0mfile\u001b[0m\u001b[1;33m.\u001b[0m\u001b[0mwrite\u001b[0m\u001b[1;33m(\u001b[0m\u001b[1;34m\"This is just another file \\n\"\u001b[0m\u001b[1;33m)\u001b[0m\u001b[1;33m\u001b[0m\u001b[1;33m\u001b[0m\u001b[0m\n\u001b[0m",
      "\u001b[1;31mValueError\u001b[0m: I/O operation on closed file."
     ]
    }
   ],
   "source": [
    "file.write(\"This is just another file\")"
   ]
  },
  {
   "cell_type": "code",
   "execution_count": 21,
   "metadata": {},
   "outputs": [],
   "source": [
    "#to complete write operation\n",
    "file.close()"
   ]
  },
  {
   "cell_type": "code",
   "execution_count": 25,
   "metadata": {},
   "outputs": [],
   "source": [
    "with open('text3.txt','w') as file:\n",
    "    file.write('This is third file \\n')"
   ]
  },
  {
   "cell_type": "code",
   "execution_count": 26,
   "metadata": {},
   "outputs": [],
   "source": [
    "with open('text3.txt','a') as file:\n",
    "    for temp in text_data:\n",
    "        file.write(temp)"
   ]
  },
  {
   "cell_type": "markdown",
   "metadata": {},
   "source": [
    "### Text Extraction from PDF files"
   ]
  },
  {
   "cell_type": "code",
   "execution_count": 27,
   "metadata": {},
   "outputs": [
    {
     "name": "stdout",
     "output_type": "stream",
     "text": [
      "Collecting PyPDF2\n",
      "  Downloading https://files.pythonhosted.org/packages/b4/01/68fcc0d43daf4c6bdbc6b33cc3f77bda531c86b174cac56ef0ffdb96faab/PyPDF2-1.26.0.tar.gz (77kB)\n",
      "Installing collected packages: PyPDF2\n",
      "  Running setup.py install for PyPDF2: started\n",
      "    Running setup.py install for PyPDF2: finished with status 'done'\n",
      "Successfully installed PyPDF2-1.26.0\n"
     ]
    },
    {
     "name": "stderr",
     "output_type": "stream",
     "text": [
      "You are using pip version 19.0.3, however version 20.2.2 is available.\n",
      "You should consider upgrading via the 'python -m pip install --upgrade pip' command.\n"
     ]
    }
   ],
   "source": [
    "!pip install PyPDF2"
   ]
  },
  {
   "cell_type": "code",
   "execution_count": 28,
   "metadata": {},
   "outputs": [],
   "source": [
    "import PyPDF2 as pdf"
   ]
  },
  {
   "cell_type": "code",
   "execution_count": 30,
   "metadata": {},
   "outputs": [],
   "source": [
    "file = open('NLP.pdf','rb')"
   ]
  },
  {
   "cell_type": "code",
   "execution_count": 31,
   "metadata": {},
   "outputs": [
    {
     "data": {
      "text/plain": [
       "<_io.BufferedReader name='NLP.pdf'>"
      ]
     },
     "execution_count": 31,
     "metadata": {},
     "output_type": "execute_result"
    }
   ],
   "source": [
    "file"
   ]
  },
  {
   "cell_type": "code",
   "execution_count": 32,
   "metadata": {},
   "outputs": [],
   "source": [
    "pdf_reader = pdf.PdfFileReader(file)"
   ]
  },
  {
   "cell_type": "code",
   "execution_count": 33,
   "metadata": {},
   "outputs": [
    {
     "data": {
      "text/plain": [
       "<PyPDF2.pdf.PdfFileReader at 0x6c20db0>"
      ]
     },
     "execution_count": 33,
     "metadata": {},
     "output_type": "execute_result"
    }
   ],
   "source": [
    "pdf_reader"
   ]
  },
  {
   "cell_type": "code",
   "execution_count": 34,
   "metadata": {},
   "outputs": [
    {
     "name": "stdout",
     "output_type": "stream",
     "text": [
      "Help on PdfFileReader in module PyPDF2.pdf object:\n",
      "\n",
      "class PdfFileReader(builtins.object)\n",
      " |  PdfFileReader(stream, strict=True, warndest=None, overwriteWarnings=True)\n",
      " |  \n",
      " |  Initializes a PdfFileReader object.  This operation can take some time, as\n",
      " |  the PDF stream's cross-reference tables are read into memory.\n",
      " |  \n",
      " |  :param stream: A File object or an object that supports the standard read\n",
      " |      and seek methods similar to a File object. Could also be a\n",
      " |      string representing a path to a PDF file.\n",
      " |  :param bool strict: Determines whether user should be warned of all\n",
      " |      problems and also causes some correctable problems to be fatal.\n",
      " |      Defaults to ``True``.\n",
      " |  :param warndest: Destination for logging warnings (defaults to\n",
      " |      ``sys.stderr``).\n",
      " |  :param bool overwriteWarnings: Determines whether to override Python's\n",
      " |      ``warnings.py`` module with a custom implementation (defaults to\n",
      " |      ``True``).\n",
      " |  \n",
      " |  Methods defined here:\n",
      " |  \n",
      " |  __init__(self, stream, strict=True, warndest=None, overwriteWarnings=True)\n",
      " |      Initialize self.  See help(type(self)) for accurate signature.\n",
      " |  \n",
      " |  cacheGetIndirectObject(self, generation, idnum)\n",
      " |  \n",
      " |  cacheIndirectObject(self, generation, idnum, obj)\n",
      " |  \n",
      " |  decrypt(self, password)\n",
      " |      When using an encrypted / secured PDF file with the PDF Standard\n",
      " |      encryption handler, this function will allow the file to be decrypted.\n",
      " |      It checks the given password against the document's user password and\n",
      " |      owner password, and then stores the resulting decryption key if either\n",
      " |      password is correct.\n",
      " |      \n",
      " |      It does not matter which password was matched.  Both passwords provide\n",
      " |      the correct decryption key that will allow the document to be used with\n",
      " |      this library.\n",
      " |      \n",
      " |      :param str password: The password to match.\n",
      " |      :return: ``0`` if the password failed, ``1`` if the password matched the user\n",
      " |          password, and ``2`` if the password matched the owner password.\n",
      " |      :rtype: int\n",
      " |      :raises NotImplementedError: if document uses an unsupported encryption\n",
      " |          method.\n",
      " |  \n",
      " |  getDestinationPageNumber(self, destination)\n",
      " |      Retrieve page number of a given Destination object\n",
      " |      \n",
      " |      :param Destination destination: The destination to get page number.\n",
      " |           Should be an instance of\n",
      " |           :class:`Destination<PyPDF2.pdf.Destination>`\n",
      " |      :return: the page number or -1 if page not found\n",
      " |      :rtype: int\n",
      " |  \n",
      " |  getDocumentInfo(self)\n",
      " |      Retrieves the PDF file's document information dictionary, if it exists.\n",
      " |      Note that some PDF files use metadata streams instead of docinfo\n",
      " |      dictionaries, and these metadata streams will not be accessed by this\n",
      " |      function.\n",
      " |      \n",
      " |      :return: the document information of this PDF file\n",
      " |      :rtype: :class:`DocumentInformation<pdf.DocumentInformation>` or ``None`` if none exists.\n",
      " |  \n",
      " |  getFields(self, tree=None, retval=None, fileobj=None)\n",
      " |      Extracts field data if this PDF contains interactive form fields.\n",
      " |      The *tree* and *retval* parameters are for recursive use.\n",
      " |      \n",
      " |      :param fileobj: A file object (usually a text file) to write\n",
      " |          a report to on all interactive form fields found.\n",
      " |      :return: A dictionary where each key is a field name, and each\n",
      " |          value is a :class:`Field<PyPDF2.generic.Field>` object. By\n",
      " |          default, the mapping name is used for keys.\n",
      " |      :rtype: dict, or ``None`` if form data could not be located.\n",
      " |  \n",
      " |  getFormTextFields(self)\n",
      " |      Retrieves form fields from the document with textual data (inputs, dropdowns)\n",
      " |  \n",
      " |  getIsEncrypted(self)\n",
      " |  \n",
      " |  getNamedDestinations(self, tree=None, retval=None)\n",
      " |      Retrieves the named destinations present in the document.\n",
      " |      \n",
      " |      :return: a dictionary which maps names to\n",
      " |          :class:`Destinations<PyPDF2.generic.Destination>`.\n",
      " |      :rtype: dict\n",
      " |  \n",
      " |  getNumPages(self)\n",
      " |      Calculates the number of pages in this PDF file.\n",
      " |      \n",
      " |      :return: number of pages\n",
      " |      :rtype: int\n",
      " |      :raises PdfReadError: if file is encrypted and restrictions prevent\n",
      " |          this action.\n",
      " |  \n",
      " |  getObject(self, indirectReference)\n",
      " |  \n",
      " |  getOutlines(self, node=None, outlines=None)\n",
      " |      Retrieves the document outline present in the document.\n",
      " |      \n",
      " |      :return: a nested list of :class:`Destinations<PyPDF2.generic.Destination>`.\n",
      " |  \n",
      " |  getPage(self, pageNumber)\n",
      " |      Retrieves a page by number from this PDF file.\n",
      " |      \n",
      " |      :param int pageNumber: The page number to retrieve\n",
      " |          (pages begin at zero)\n",
      " |      :return: a :class:`PageObject<pdf.PageObject>` instance.\n",
      " |      :rtype: :class:`PageObject<pdf.PageObject>`\n",
      " |  \n",
      " |  getPageLayout(self)\n",
      " |      Get the page layout.\n",
      " |      See :meth:`setPageLayout()<PdfFileWriter.setPageLayout>`\n",
      " |      for a description of valid layouts.\n",
      " |      \n",
      " |      :return: Page layout currently being used.\n",
      " |      :rtype: ``str``, ``None`` if not specified\n",
      " |  \n",
      " |  getPageMode(self)\n",
      " |      Get the page mode.\n",
      " |      See :meth:`setPageMode()<PdfFileWriter.setPageMode>`\n",
      " |      for a description of valid modes.\n",
      " |      \n",
      " |      :return: Page mode currently being used.\n",
      " |      :rtype: ``str``, ``None`` if not specified\n",
      " |  \n",
      " |  getPageNumber(self, page)\n",
      " |      Retrieve page number of a given PageObject\n",
      " |      \n",
      " |      :param PageObject page: The page to get page number. Should be\n",
      " |          an instance of :class:`PageObject<PyPDF2.pdf.PageObject>`\n",
      " |      :return: the page number or -1 if page not found\n",
      " |      :rtype: int\n",
      " |  \n",
      " |  getXmpMetadata(self)\n",
      " |      Retrieves XMP (Extensible Metadata Platform) data from the PDF document\n",
      " |      root.\n",
      " |      \n",
      " |      :return: a :class:`XmpInformation<xmp.XmpInformation>`\n",
      " |          instance that can be used to access XMP metadata from the document.\n",
      " |      :rtype: :class:`XmpInformation<xmp.XmpInformation>` or\n",
      " |          ``None`` if no metadata was found on the document root.\n",
      " |  \n",
      " |  read(self, stream)\n",
      " |  \n",
      " |  readNextEndLine(self, stream)\n",
      " |  \n",
      " |  readObjectHeader(self, stream)\n",
      " |  \n",
      " |  ----------------------------------------------------------------------\n",
      " |  Data descriptors defined here:\n",
      " |  \n",
      " |  __dict__\n",
      " |      dictionary for instance variables (if defined)\n",
      " |  \n",
      " |  __weakref__\n",
      " |      list of weak references to the object (if defined)\n",
      " |  \n",
      " |  documentInfo\n",
      " |  \n",
      " |  isEncrypted\n",
      " |  \n",
      " |  namedDestinations\n",
      " |  \n",
      " |  numPages\n",
      " |  \n",
      " |  outlines\n",
      " |  \n",
      " |  pageLayout\n",
      " |      Get the page layout.\n",
      " |      See :meth:`setPageLayout()<PdfFileWriter.setPageLayout>`\n",
      " |      for a description of valid layouts.\n",
      " |      \n",
      " |      :return: Page layout currently being used.\n",
      " |      :rtype: ``str``, ``None`` if not specified\n",
      " |  \n",
      " |  pageMode\n",
      " |      Get the page mode.\n",
      " |      See :meth:`setPageMode()<PdfFileWriter.setPageMode>`\n",
      " |      for a description of valid modes.\n",
      " |      \n",
      " |      :return: Page mode currently being used.\n",
      " |      :rtype: ``str``, ``None`` if not specified\n",
      " |  \n",
      " |  pages\n",
      " |  \n",
      " |  xmpMetadata\n",
      "\n"
     ]
    }
   ],
   "source": [
    "help(pdf_reader)"
   ]
  },
  {
   "cell_type": "code",
   "execution_count": 35,
   "metadata": {},
   "outputs": [
    {
     "data": {
      "text/plain": [
       "False"
      ]
     },
     "execution_count": 35,
     "metadata": {},
     "output_type": "execute_result"
    }
   ],
   "source": [
    "pdf_reader.getIsEncrypted()"
   ]
  },
  {
   "cell_type": "code",
   "execution_count": 37,
   "metadata": {},
   "outputs": [
    {
     "data": {
      "text/plain": [
       "9"
      ]
     },
     "execution_count": 37,
     "metadata": {},
     "output_type": "execute_result"
    }
   ],
   "source": [
    "pdf_reader.getNumPages()"
   ]
  },
  {
   "cell_type": "code",
   "execution_count": 40,
   "metadata": {},
   "outputs": [],
   "source": [
    "page4 = pdf_reader.getPage(3)"
   ]
  },
  {
   "cell_type": "code",
   "execution_count": 41,
   "metadata": {},
   "outputs": [
    {
     "data": {
      "text/plain": [
       "'patientprobablyhasaleft-sidedcerebrovascularaccident;post-\\nconvulsivestateislesslikely.\\n™Negation,uncertainty,and\\nafrmationformacontinuum.Uncertaintydetectionwasthe\\nfocusofarecentNLPcompetition.\\n365.Relationshipextraction\\n:determiningrelationshipsbetween\\nentitiesorevents,suchas\\n‚treats,™‚causes,™and‚occurswith.\\n™Lookupofproblem-speci\\ncinformation\\ndforexample,thesauri,\\ndatabasesdfacilitatesrelationshipextraction.\\nAnaphorareferenceresolution\\n37isasub-taskthatdetermines\\nrelationshipsbetween\\n‚hierarchicallyrelated\\n™entities:suchrela-\\ntionshipsinclude:\\n<Identity:oneentity\\ndforexample,apronounlike\\n‚s/he,™‚hers/his,™oranabbreviation\\ndreferstoapreviouslymentioned\\nnamedentity;\\n<Part/whole\\n:forexample,citywithinstate;\\n<Superset/subset:forexample,antibiotic/penicillin.\\n6.Temporalinferences/relationshipextraction\\n3839\\n:makinginfer-\\nencesfromtemporalexpressionsandtemporalrelations\\ndforexample,inferringthatsomethinghasoccurredinthepastor\\nmayoccurinthefuture,andorderingeventswithinanarrative\\n(eg,medicationXwasprescribed\\naftersymptomsbegan).\\n7.Informationextraction(IE)\\n:theidenti\\ncationofproblem-\\nspecicinformationanditstransformationinto(problem-\\nspecic)structuredform.Tasks1\\ne6areoftenpartofthe\\nlargerIEtask.Forexample,extractingapatient\\n™scurrent\\ndiagnosesinvolvesNER,WSD,negationdetection,temporal\\ninference,andanaphoricresolution.Numerousmodernclinical\\n\\nIEsystemsexist,\\n40e44withsomeavailableasopen-source.\\n254445\\nIEandrelationshipextractionhavebeenthemesofseverali2b2/\\nVANLPchallenges.\\n46e49Otherproblemareasincludephenotype\\ncharacterization,50e52biosurveillance,\\n5354\\nandadverse-drug\\nreactionrecognition.\\n55TheNationalLibraryofMedicine(NLM)providesseveral\\nwell-known‚knowledgeinfrastructure\\n™resourcesthatapplyto\\nmultipleNLPandIRtasks.TheUMLSMetathesaurus,\\n56whichrecordssynonymsandcategoriesofbiomedicalconceptsfrom\\nnumerousbiomedicalterminologies,isusefulinclinicalNER.\\n\\nTheNLM\\n™sSpecialistLexicon\\n57isadatabaseofcommonEnglish\\nandmedicaltermsthatincludespart-of-speechandin\\nectiondata;itisaccompaniedbyasetofNLPtools.\\n58TheNLMalso\\nprovidesatestcollectionforworddisambiguation.\\n59SOMEDATADRIVENAPPROACHES:ANOVERVIEW\\nStatisticalandmachinelearninginvolvedevelopment(oruse)of\\nalgorithmsthatallowaprogramtoinferpatternsaboutexample\\n(‚training™)data,thatinturnallowsitto\\n‚generalize™dmakepredictionsaboutnewdata.Duringthe\\nlearning\\nphase,numer-\\nicalparametersthatcharacterizeagivenalgorithm\\n™sunderlying\\nmodelarecomputedbyoptimizinganumericalmeasure,\\n\\ntypicallythroughaniterativeprocess.\\nIngeneral,learningcanbe\\nsupervised\\ndeachiteminthe\\ntrainingdataislabeledwiththecorrectanswer\\ndorunsupervised\\n,whereitisnot,andthelearningprocesstriestorecognize\\n\\npatternsautomatically(asinclusterandfactoranalysis).One\\npitfallinanylearningapproachisthepotentialfor\\nover-tting:themodelmay\\nttheexampledataalmostperfectly,butmakes\\npoorpredictionsfornew,previouslyunseencases.Thisis\\nbecauseitmaylearntherandomnoiseinthetrainingdatarather\\nthanonlyitsessential,desiredfeatures.Over-\\nttingriskis\\nminimizedbytechniquessuchas\\ncross-validation,whichparti-\\ntiontheexampledatarandomlyintotrainingandtestsetsto\\ninternallyvalidatethemodel\\n™spredictions.Thisprocessofdata\\npartitioning,training,andvalidationisrepeatedoverseveral\\nrounds,andthevalidationresultsarethenaveragedacross\\nrounds.Machine-learningmodelscanbebroadlyclassi\\nedaseither\\ngenerativeordiscriminative.Generativemethodsseektocreate\\n\\nrichmodelsofprobabilitydistributions,andaresocalled\\n\\nbecause,withsuchmodels,onecan\\n‚generate™syntheticdata.\\nDiscriminativemethodsaremoreutilitarian,directlyestimating\\nposteriorprobabilitiesbasedonobservations.Srihari\\n60explains\\nthedifferencewithananalogy:toidentifyanunknown\\nspeaker™slanguage,generativeapproacheswouldapplydeep\\nknowledgeofnumerouslanguagestoperformthematch;\\n\\ndiscriminativemethodswouldrelyonalessknowledge-inten-\\nsiveapproachofusingdifferencesbetweenlanguagesto\\nndthe\\nclosestmatch.Comparedtogenerativemodels,whichcan\\n\\nbecomeintractablewhenmanyfeaturesareused,discriminative\\n\\nmodelstypicallyallowuseofmorefeatures.\\n61Logisticregression\\nandconditionalrandom\\nelds(CRFs)areexamplesofdiscrimi-\\nnativemethods,whileNaiveBayesclassi\\nersandhidden\\nMarkovmodels(HMMs)areexamplesofgenerativemethods.\\nSomecommonmachine-learningmethodsusedinNLPtasks,\\nandutilizedbyseveralarticlesinthisissue,aresummarized\\n\\nbelow.\\nSupportvectormachines(SVMs)\\nSVMs,adiscriminativelearningapproach,classifyinputs(eg,\\n\\nwords)intocategories(eg,partsofspeech)basedonafeature\\n\\nset.Theinputmaybetransformedmathematicallyusing\\n\\na‚kernelfunction\\n™toallow\\nlinearseparation\\nofthedatapoints\\nfromdifferentcategories.Thatis,inthesimplesttwo-feature\\ncase,astraightlinewouldseparatetheminanX\\neYplot:inthe\\ngeneralN-featurecase,theseparatorwillbean(N\\n1)hyper-\\nplane.ThecommonestkernelfunctionusedisaGaussian\\n(thebasisofthe\\n‚normaldistribution\\n™instatistics).Thesepa-\\nrationprocessselectsa\\nsubsetofthetrainingdata(the\\n‚supportvectors™ddatapointsclosesttothehyperplane)thatbest\\ndifferentiatesthecategories.Theseparatinghyperplanemaxi-\\n\\nmizesthedistancetosupportvectorsfromeachcategory\\n\\n(seegure1).\\nFigure1\\nSupportvectormachines:asimple2-Dcaseisillustrated.\\nThedatapoints,shownascategoriesA(circles)andB(diamonds),can\\nbeseparatedbyastraightlineX\\neY.ThealgorithmthatdeterminesX\\neYidentiÞesthedatapoints(ÔsupportvectorsÕ)fromeachcategorythatare\\n\\nclosesttotheothercategory(a1,a2,a3andb1,b2,b3)andcomputes\\nXeYsuchthatthemarginthatseparatesthecategoriesoneithersideis\\nmaximized.InthegeneralN-dimensionalcase,theseparatorwillbean\\n\\n(N1)hyperplane,andtherawdatawillsometimesneedtobe\\nmathematicallytransformedsothatlinearseparationisachievable.\\n546JAmMedInformAssoc\\n2011;18:544e551.doi:10.1136/amiajnl-2011-000464\\nReview\\n'"
      ]
     },
     "execution_count": 41,
     "metadata": {},
     "output_type": "execute_result"
    }
   ],
   "source": [
    "page4.extractText()"
   ]
  },
  {
   "cell_type": "code",
   "execution_count": 45,
   "metadata": {},
   "outputs": [],
   "source": [
    "page5 = pdf_reader.getPage(4)"
   ]
  },
  {
   "cell_type": "code",
   "execution_count": 46,
   "metadata": {},
   "outputs": [
    {
     "data": {
      "text/plain": [
       "'AtutorialbyHearst\\netal\\n62andtheDTREGonlinedocu-\\nmentation63provideapproachableintroductionstoSVMs.\\nFradkinandMuchnik\\n64provideamoretechnicaloverview.\\nHiddenMarkovmodels(HMMs)\\nAnHMMisasystemwhereavariablecanswitch(withvarying\\n\\nprobabilities)betweenseveralstates,generatingoneofseveral\\npossibleoutputsymbolswitheachswitch(alsowithvarying\\n\\nprobabilities).Thesetsofpossiblestatesanduniquesymbols\\nmaybelarge,but\\nniteandknown(see\\ngure2).Wecanobserve\\ntheoutputs,butthesystem\\n™sinternals(ie,state-switchproba-\\nbilitiesandoutputprobabilities)are\\n‚hidden.™Theproblemsto\\nbesolvedare:\\nA.Inference:givenaparticularsequenceofoutputsymbols,\\ncomputetheprobabilitiesofoneormorecandidatestate-\\n\\nswitchsequences.\\nB.Patternmatching\\n:ndthestate-switchsequencemostlikelyto\\nhavegeneratedaparticularoutput-symbolsequence.\\nC.Training\\n:givenexamplesofoutput-symbolsequence\\n(training)data,computethestate-switch/outputprobabili-\\nties(ie,systeminternals)that\\ntthisdatabest.\\nBandCareactuallyNaiveBayesianreasoningextendedto\\nsequences;therefore,HMMsuseagenerativemodel.Tosolve\\ntheseproblems,anHMMusestwosimplifyingassumptions\\n\\n(whicharetrueofnumerousreal-lifephenomena):\\n1.Theprobabilityofswitchingtoa\\nnewstate(orbacktothe\\nsamestate)dependsonthepreviousNstates.Inthesimplest\\n\\n‚rst-order\\n™case(N\\n¼1),thisprobabilityisdetermined\\nbythe\\ncurrentstatealone.(First-orderHMMsarethususefulto\\nmodeleventswhoselikelihooddependsonwhathappened\\nlast.)2.Theprobabilityofgeneratingaparticularoutputin\\naparticularstatedependsonlyonthatstate.\\nTheseassumptionsallowtheprobabilityofagivenstate-\\nswitchsequence(andacorrespondingobserved-output\\nsequence)tobecomputedbysimplemultiplicationofthe\\n\\nindividualprobabilities.Severalalgorithmsexisttosolvethese\\nproblems.6566Thehighlyef\\ncientViterbialgorithm,which\\naddressesproblemB,\\nndsapplicationsinsignalprocessing,for\\nexample,cell-phonetechnology.\\nTheoretically,HMMscouldbeextendedtoamultivariate\\nscenario,67butthetrainingproblemcannowbecomeintrac-\\ntable.Inpractice,multiple-variableapplicationsofHMMs(eg,\\n\\nNER68)usesingle,arti\\ncialvariablesthatareuniquelydeter-\\nminedcompositesofexistingcategoricalvariables:such\\napproachesrequiremuchmoretrainingdata.\\nHMMsarewidelyusedforspeechrecognition,where\\naspokenword\\n™swaveform(theoutputsequence)ismatchedto\\nthesequenceofindividualphonemes(the\\n‚states™)thatmost\\nlikelyproducedit.(FrederickJelinek,astatistical-NLPadvocate\\nwhopioneeredHMMsatIBM\\n™sSpeechRecognitionGroup,\\nreportedlyjoked,\\n‚everytimealinguistleavesmygroup,the\\nspeechrecognizer\\n™sperformanceimproves.\\n™20)HMMsalso\\naddressseveralbioinformaticsproblems,forexample,multiple\\nsequencealignment\\n69andgeneprediction.\\n70Eddy71providesalucidbioinformatics-orientedintroductiontoHMMs,while\\n\\nRabiner72(speechrecognition)providesamoredetailedintro-\\nduction.CommercialHMM-basedspeech-to-textisnowrobust\\nenoughtohaveessentiallykilledoffacademicresearchefforts,\\nwithdictationsystemsforspecializedareas\\ndeg,radiologyand\\npathologydprovidingstructureddataentry.Phraserecognition\\nisparadoxicallymorereliableforpolysyllabicmedicaltermsthan\\nforordinaryEnglish:fewwordsequencessoundlike\\n‚anginapectoris,™whilecommonEnglishhasnumeroushomophones\\n(eg,two/too/to).\\nConditionalrandomÞelds(CRFs)\\nCRFsareafamilyofdiscriminativemodels\\nrstproposedby\\nLafferty\\netal\\n.73AnaccessiblereferenceisCulotta\\netal\\n74;Sutton\\nandMcCallum\\n75ismoremathematical.Thecommonest(linear-\\nchain)CRFsresembleHMMsinthatthenextstatedependson\\n\\nthecurrentstate(hencethe\\n‚linearchain\\n™ofdependency).\\nCRFsgeneralizelogisticregressiontosequentialdatainthe\\nsamewaythatHMMsgeneralizeNaiveBayes(see\\ngure3).\\nCRFsareusedtopredictthestatevariables(\\n‚Ys™)basedonthe\\nobservedvariables(\\n‚Xs™).Forexample,whenappliedtoNER,the\\nstatevariablesarethecategoriesofthenamedentities:wewant\\n\\ntopredictasequenceofnamed-entitycategorieswithin\\n\\napassage.Theobservedvariablesmightbetheworditself,\\nprexes/suf\\nxes,capitalization,embeddednumbers,hyphen-\\nation,andsoon.Thelinear-chainparadigm\\ntsNERwell:for\\nexample,ifthepreviousentityis\\n‚Salutation™(eg,‚Mr/Ms™),the\\nsucceedingentitymustbeaperson.\\nCRFsarebettersuitedtosequentialmultivariatedatathan\\nHMMs:thetrainingproblem,whilerequiringmoreexample\\ndatathanaunivariateHMM,isstilltractable.\\nN-gramsAn‚N-gram™19isasequenceofNitems\\ndletters,words,or\\nphonemes.Weknowthatcertainitempairs(ortriplets,\\n\\nquadruplets,etc)arelikelytooccurmuchmorefrequentlythan\\nFigure2\\nHiddenMarkovmodels.Thesmall\\ncirclesS1,S2andS3\\nrepresentstates.BoxesO1andO2represent\\noutputvalues\\n.(Inpractical\\ncases,hundredsofstates/outputvaluesmayoccur.)The\\nsolidlines/arcsconnectingstatesrepresent\\nstateswitches\\n;thearrowrepresentsthe\\nswitchÕsdirection.(Astatemayswitchbacktoitself.)Eachline/arclabel\\n\\n(notshown)isthe\\nswitchprobability\\n,adecimalnumber.A\\ndashedline/arcconnectingastatetoanoutputvalueindicatesÔoutputprobabilityÕ:\\ntheprobabilityofthatoutputvaluebeinggeneratedfromtheparticular\\nstate.Ifaparticularswitch/outputprobabilityiszero,theline/arcisnot\\n\\ndrawn.Thesumoftheswitchprobabilitiesleavingagivenstate(andthe\\n\\nsimilarsumofoutputprobabilities)isequalto1.Thesequentialor\\ntemporalaspectofanHMMisshowninÞgure3.\\nJAmMedInformAssoc\\n2011;18:544e551.doi:10.1136/amiajnl-2011-000464\\n547Review\\n'"
      ]
     },
     "execution_count": 46,
     "metadata": {},
     "output_type": "execute_result"
    }
   ],
   "source": [
    "page5.extractText()"
   ]
  },
  {
   "cell_type": "markdown",
   "metadata": {},
   "source": [
    "### Append and Merge PDFs"
   ]
  },
  {
   "cell_type": "code",
   "execution_count": 42,
   "metadata": {},
   "outputs": [],
   "source": [
    "pdf_writer = pdf.PdfFileWriter()"
   ]
  },
  {
   "cell_type": "code",
   "execution_count": 47,
   "metadata": {},
   "outputs": [],
   "source": [
    "pdf_writer.addPage(page4)\n",
    "pdf_writer.addPage(page5)"
   ]
  },
  {
   "cell_type": "code",
   "execution_count": 48,
   "metadata": {},
   "outputs": [],
   "source": [
    "output = open('Pages.pdf','wb')\n",
    "pdf_writer.write(output)\n",
    "output.close()"
   ]
  },
  {
   "cell_type": "code",
   "execution_count": null,
   "metadata": {},
   "outputs": [],
   "source": []
  }
 ],
 "metadata": {
  "kernelspec": {
   "display_name": "Python 3",
   "language": "python",
   "name": "python3"
  },
  "language_info": {
   "codemirror_mode": {
    "name": "ipython",
    "version": 3
   },
   "file_extension": ".py",
   "mimetype": "text/x-python",
   "name": "python",
   "nbconvert_exporter": "python",
   "pygments_lexer": "ipython3",
   "version": "3.7.3"
  }
 },
 "nbformat": 4,
 "nbformat_minor": 4
}
