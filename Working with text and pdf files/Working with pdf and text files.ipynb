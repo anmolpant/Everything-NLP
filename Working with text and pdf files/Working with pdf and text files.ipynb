{
 "cells": [
  {
   "cell_type": "markdown",
   "metadata": {},
   "source": [
    "### Working with pdf and text files for NLP"
   ]
  },
  {
   "cell_type": "markdown",
   "metadata": {},
   "source": [
    "#### String Formatter"
   ]
  },
  {
   "cell_type": "code",
   "execution_count": 1,
   "metadata": {},
   "outputs": [],
   "source": [
    "name = \"Anmol Pant\""
   ]
  },
  {
   "cell_type": "code",
   "execution_count": 2,
   "metadata": {},
   "outputs": [
    {
     "name": "stdout",
     "output_type": "stream",
     "text": [
      "The name of the person is Anmol Pant\n"
     ]
    }
   ],
   "source": [
    "print('The name of the person is {}'.format(name))"
   ]
  },
  {
   "cell_type": "code",
   "execution_count": 4,
   "metadata": {},
   "outputs": [
    {
     "name": "stdout",
     "output_type": "stream",
     "text": [
      "The name of the person is Anmol Pant\n"
     ]
    }
   ],
   "source": [
    "print(f'The name of the person is {name}')"
   ]
  },
  {
   "cell_type": "code",
   "execution_count": 5,
   "metadata": {},
   "outputs": [],
   "source": [
    "# minimum width and alignment b/w columns"
   ]
  },
  {
   "cell_type": "code",
   "execution_count": 11,
   "metadata": {},
   "outputs": [],
   "source": [
    "mylist = [('tuple 1',12),\n",
    "         ('tuple 2',11),\n",
    "         ('phirse tuple',10),\n",
    "         ('ek aur tuple', 23),\n",
    "         ('last tuple', 12)]"
   ]
  },
  {
   "cell_type": "code",
   "execution_count": 12,
   "metadata": {},
   "outputs": [
    {
     "data": {
      "text/plain": [
       "[('tuple 1', 12),\n",
       " ('tuple 2', 11),\n",
       " ('phirse tuple', 10),\n",
       " ('ek aur tuple', 23),\n",
       " ('last tuple', 12)]"
      ]
     },
     "execution_count": 12,
     "metadata": {},
     "output_type": "execute_result"
    }
   ],
   "source": [
    "mylist"
   ]
  },
  {
   "cell_type": "code",
   "execution_count": 15,
   "metadata": {},
   "outputs": [
    {
     "name": "stdout",
     "output_type": "stream",
     "text": [
      "('tuple 1', 12)\n",
      "('tuple 2', 11)\n",
      "('phirse tuple', 10)\n",
      "('ek aur tuple', 23)\n",
      "('last tuple', 12)\n"
     ]
    }
   ],
   "source": [
    "for i in mylist:\n",
    "    print (i)"
   ]
  },
  {
   "cell_type": "code",
   "execution_count": 19,
   "metadata": {},
   "outputs": [
    {
     "name": "stdout",
     "output_type": "stream",
     "text": [
      "tuple 1                                                    12\n",
      "tuple 2                                                    11\n",
      "phirse tuple                                               10\n",
      "ek aur tuple                                               23\n",
      "last tuple                                                 12\n"
     ]
    }
   ],
   "source": [
    "#formatting\n",
    "for i in mylist:\n",
    "    print (f'{i[0]:{50}} {i[1]:{10}}')"
   ]
  },
  {
   "cell_type": "code",
   "execution_count": 21,
   "metadata": {},
   "outputs": [
    {
     "name": "stdout",
     "output_type": "stream",
     "text": [
      "tuple 1                                            ........12\n",
      "tuple 2                                            ........11\n",
      "phirse tuple                                       ........10\n",
      "ek aur tuple                                       ........23\n",
      "last tuple                                         ........12\n"
     ]
    }
   ],
   "source": [
    "#>,<,^ for alignment\n",
    "for i in mylist:\n",
    "    print (f'{i[0]:<{50}} {i[1]:.>{10}}')"
   ]
  },
  {
   "cell_type": "markdown",
   "metadata": {},
   "source": [
    "### Working w .CSV and .TSV files"
   ]
  },
  {
   "cell_type": "code",
   "execution_count": 22,
   "metadata": {},
   "outputs": [],
   "source": [
    "import pandas as pd"
   ]
  },
  {
   "cell_type": "code",
   "execution_count": null,
   "metadata": {},
   "outputs": [],
   "source": []
  }
 ],
 "metadata": {
  "kernelspec": {
   "display_name": "Python 3",
   "language": "python",
   "name": "python3"
  },
  "language_info": {
   "codemirror_mode": {
    "name": "ipython",
    "version": 3
   },
   "file_extension": ".py",
   "mimetype": "text/x-python",
   "name": "python",
   "nbconvert_exporter": "python",
   "pygments_lexer": "ipython3",
   "version": "3.7.3"
  }
 },
 "nbformat": 4,
 "nbformat_minor": 4
}
